{
 "cells": [
  {
   "cell_type": "markdown",
   "metadata": {},
   "source": [
    "<font size=5 > <p style=\"color:purple\"> Welche Faktoren beeinflussen den Preis von Krankenversicherungen?"
   ]
  },
  {
   "cell_type": "markdown",
   "metadata": {},
   "source": [
    "<font size='2'>Viele Faktoren, die sich auf die Höhe Ihrer Krankenversicherungsbeiträge auswirken, liegen nicht in Ihrem Einflussbereich. Trotzdem ist es gut, wenn Sie wissen, welche das sind. Hier sind einige Faktoren, die sich auf die Höhe der Krankenversicherungsprämien auswirken\n",
    "\n",
    "* **Alter:** Alter des Hauptbegünstigten\n",
    "\n",
    "* **Geschlecht:** Geschlecht des Versicherungsvertragsnehmers, weiblich, männlich\n",
    "\n",
    "* **bmi:** Body-Mass-Index, bietet ein Verständnis des Körpers, Gewichte, die relativ hoch oder niedrig im Verhältnis zur Höhe, objektive Index des Körpergewichts (kg / m ^ 2) mit dem Verhältnis von Höhe zu Gewicht, idealerweise 18,5 bis 24,9 sind\n",
    "\n",
    "* **Kinder:** Anzahl der krankenversicherten Kinder / Anzahl der unterhaltsberechtigten Personen\n",
    "\n",
    "* **Raucher:** Rauchen\n",
    "\n",
    "* **Region:** Wohngebiet des Begünstigten in den USA, Nordosten, Südosten, Südwesten, Nordwesten\n",
    "\n"
   ]
  },
  {
   "cell_type": "markdown",
   "metadata": {},
   "source": [
    "<font size=5><p style=\"color:purple\"> EDA and Visualizations "
   ]
  },
  {
   "cell_type": "code",
   "execution_count": 2,
   "metadata": {
    "_cell_guid": "b1076dfc-b9ad-4769-8c92-a6c4dae69d19",
    "_uuid": "8f2839f25d086af736a60e9eeb907d3b93b6e0e5",
    "execution": {
     "iopub.execute_input": "2022-07-08T01:39:36.305634Z",
     "iopub.status.busy": "2022-07-08T01:39:36.305169Z",
     "iopub.status.idle": "2022-07-08T01:39:37.350356Z",
     "shell.execute_reply": "2022-07-08T01:39:37.349192Z",
     "shell.execute_reply.started": "2022-07-08T01:39:36.305548Z"
    },
    "pycharm": {
     "is_executing": false
    }
   },
   "outputs": [],
   "source": [
    "import pandas as pd\n",
    "import numpy as np\n",
    "import matplotlib.pyplot as plt\n",
    "%matplotlib inline\n",
    "import seaborn as sns\n",
    "import warnings\n",
    "warnings.filterwarnings('ignore')"
   ]
  },
  {
   "cell_type": "code",
   "execution_count": 3,
   "metadata": {
    "_cell_guid": "79c7e3d0-c299-4dcb-8224-4455121ee9b0",
    "_uuid": "d629ff2d2480ee46fbb7e2d37f6b5fab8052498a",
    "execution": {
     "iopub.execute_input": "2022-07-08T02:34:00.423089Z",
     "iopub.status.busy": "2022-07-08T02:34:00.422436Z",
     "iopub.status.idle": "2022-07-08T02:34:00.448825Z",
     "shell.execute_reply": "2022-07-08T02:34:00.448080Z",
     "shell.execute_reply.started": "2022-07-08T02:34:00.422998Z"
    }
   },
   "outputs": [
    {
     "data": {
      "text/html": [
       "<div>\n",
       "<style scoped>\n",
       "    .dataframe tbody tr th:only-of-type {\n",
       "        vertical-align: middle;\n",
       "    }\n",
       "\n",
       "    .dataframe tbody tr th {\n",
       "        vertical-align: top;\n",
       "    }\n",
       "\n",
       "    .dataframe thead th {\n",
       "        text-align: right;\n",
       "    }\n",
       "</style>\n",
       "<table border=\"1\" class=\"dataframe\">\n",
       "  <thead>\n",
       "    <tr style=\"text-align: right;\">\n",
       "      <th></th>\n",
       "      <th>age</th>\n",
       "      <th>sex</th>\n",
       "      <th>bmi</th>\n",
       "      <th>children</th>\n",
       "      <th>smoker</th>\n",
       "      <th>region</th>\n",
       "      <th>charges</th>\n",
       "    </tr>\n",
       "  </thead>\n",
       "  <tbody>\n",
       "    <tr>\n",
       "      <th>0</th>\n",
       "      <td>19</td>\n",
       "      <td>female</td>\n",
       "      <td>27.900</td>\n",
       "      <td>0</td>\n",
       "      <td>yes</td>\n",
       "      <td>southwest</td>\n",
       "      <td>16884.92400</td>\n",
       "    </tr>\n",
       "    <tr>\n",
       "      <th>1</th>\n",
       "      <td>18</td>\n",
       "      <td>male</td>\n",
       "      <td>33.770</td>\n",
       "      <td>1</td>\n",
       "      <td>no</td>\n",
       "      <td>southeast</td>\n",
       "      <td>1725.55230</td>\n",
       "    </tr>\n",
       "    <tr>\n",
       "      <th>2</th>\n",
       "      <td>28</td>\n",
       "      <td>male</td>\n",
       "      <td>33.000</td>\n",
       "      <td>3</td>\n",
       "      <td>no</td>\n",
       "      <td>southeast</td>\n",
       "      <td>4449.46200</td>\n",
       "    </tr>\n",
       "    <tr>\n",
       "      <th>3</th>\n",
       "      <td>33</td>\n",
       "      <td>male</td>\n",
       "      <td>22.705</td>\n",
       "      <td>0</td>\n",
       "      <td>no</td>\n",
       "      <td>northwest</td>\n",
       "      <td>21984.47061</td>\n",
       "    </tr>\n",
       "    <tr>\n",
       "      <th>4</th>\n",
       "      <td>32</td>\n",
       "      <td>male</td>\n",
       "      <td>28.880</td>\n",
       "      <td>0</td>\n",
       "      <td>no</td>\n",
       "      <td>northwest</td>\n",
       "      <td>3866.85520</td>\n",
       "    </tr>\n",
       "  </tbody>\n",
       "</table>\n",
       "</div>"
      ],
      "text/plain": [
       "   age     sex     bmi  children smoker     region      charges\n",
       "0   19  female  27.900         0    yes  southwest  16884.92400\n",
       "1   18    male  33.770         1     no  southeast   1725.55230\n",
       "2   28    male  33.000         3     no  southeast   4449.46200\n",
       "3   33    male  22.705         0     no  northwest  21984.47061\n",
       "4   32    male  28.880         0     no  northwest   3866.85520"
      ]
     },
     "execution_count": 3,
     "metadata": {},
     "output_type": "execute_result"
    }
   ],
   "source": [
    "df = pd.read_csv('insurance.csv')\n",
    "df.head()"
   ]
  },
  {
   "cell_type": "code",
   "execution_count": 4,
   "metadata": {
    "execution": {
     "iopub.execute_input": "2022-07-08T01:39:51.913683Z",
     "iopub.status.busy": "2022-07-08T01:39:51.913172Z",
     "iopub.status.idle": "2022-07-08T01:39:51.919292Z",
     "shell.execute_reply": "2022-07-08T01:39:51.918205Z",
     "shell.execute_reply.started": "2022-07-08T01:39:51.913628Z"
    }
   },
   "outputs": [
    {
     "data": {
      "text/plain": [
       "(1338, 7)"
      ]
     },
     "execution_count": 4,
     "metadata": {},
     "output_type": "execute_result"
    }
   ],
   "source": [
    "df.shape"
   ]
  },
  {
   "cell_type": "code",
   "execution_count": 5,
   "metadata": {
    "execution": {
     "iopub.execute_input": "2022-07-08T01:39:54.734515Z",
     "iopub.status.busy": "2022-07-08T01:39:54.734049Z",
     "iopub.status.idle": "2022-07-08T01:39:54.764652Z",
     "shell.execute_reply": "2022-07-08T01:39:54.763806Z",
     "shell.execute_reply.started": "2022-07-08T01:39:54.734472Z"
    }
   },
   "outputs": [
    {
     "data": {
      "text/html": [
       "<div>\n",
       "<style scoped>\n",
       "    .dataframe tbody tr th:only-of-type {\n",
       "        vertical-align: middle;\n",
       "    }\n",
       "\n",
       "    .dataframe tbody tr th {\n",
       "        vertical-align: top;\n",
       "    }\n",
       "\n",
       "    .dataframe thead th {\n",
       "        text-align: right;\n",
       "    }\n",
       "</style>\n",
       "<table border=\"1\" class=\"dataframe\">\n",
       "  <thead>\n",
       "    <tr style=\"text-align: right;\">\n",
       "      <th></th>\n",
       "      <th>age</th>\n",
       "      <th>bmi</th>\n",
       "      <th>children</th>\n",
       "      <th>charges</th>\n",
       "    </tr>\n",
       "  </thead>\n",
       "  <tbody>\n",
       "    <tr>\n",
       "      <th>count</th>\n",
       "      <td>1338.000000</td>\n",
       "      <td>1338.000000</td>\n",
       "      <td>1338.000000</td>\n",
       "      <td>1338.000000</td>\n",
       "    </tr>\n",
       "    <tr>\n",
       "      <th>mean</th>\n",
       "      <td>39.207025</td>\n",
       "      <td>30.663397</td>\n",
       "      <td>1.094918</td>\n",
       "      <td>13270.422265</td>\n",
       "    </tr>\n",
       "    <tr>\n",
       "      <th>std</th>\n",
       "      <td>14.049960</td>\n",
       "      <td>6.098187</td>\n",
       "      <td>1.205493</td>\n",
       "      <td>12110.011237</td>\n",
       "    </tr>\n",
       "    <tr>\n",
       "      <th>min</th>\n",
       "      <td>18.000000</td>\n",
       "      <td>15.960000</td>\n",
       "      <td>0.000000</td>\n",
       "      <td>1121.873900</td>\n",
       "    </tr>\n",
       "    <tr>\n",
       "      <th>25%</th>\n",
       "      <td>27.000000</td>\n",
       "      <td>26.296250</td>\n",
       "      <td>0.000000</td>\n",
       "      <td>4740.287150</td>\n",
       "    </tr>\n",
       "    <tr>\n",
       "      <th>50%</th>\n",
       "      <td>39.000000</td>\n",
       "      <td>30.400000</td>\n",
       "      <td>1.000000</td>\n",
       "      <td>9382.033000</td>\n",
       "    </tr>\n",
       "    <tr>\n",
       "      <th>75%</th>\n",
       "      <td>51.000000</td>\n",
       "      <td>34.693750</td>\n",
       "      <td>2.000000</td>\n",
       "      <td>16639.912515</td>\n",
       "    </tr>\n",
       "    <tr>\n",
       "      <th>max</th>\n",
       "      <td>64.000000</td>\n",
       "      <td>53.130000</td>\n",
       "      <td>5.000000</td>\n",
       "      <td>63770.428010</td>\n",
       "    </tr>\n",
       "  </tbody>\n",
       "</table>\n",
       "</div>"
      ],
      "text/plain": [
       "               age          bmi     children       charges\n",
       "count  1338.000000  1338.000000  1338.000000   1338.000000\n",
       "mean     39.207025    30.663397     1.094918  13270.422265\n",
       "std      14.049960     6.098187     1.205493  12110.011237\n",
       "min      18.000000    15.960000     0.000000   1121.873900\n",
       "25%      27.000000    26.296250     0.000000   4740.287150\n",
       "50%      39.000000    30.400000     1.000000   9382.033000\n",
       "75%      51.000000    34.693750     2.000000  16639.912515\n",
       "max      64.000000    53.130000     5.000000  63770.428010"
      ]
     },
     "execution_count": 5,
     "metadata": {},
     "output_type": "execute_result"
    }
   ],
   "source": [
    "df.describe()"
   ]
  },
  {
   "cell_type": "code",
   "execution_count": 6,
   "metadata": {
    "execution": {
     "iopub.execute_input": "2022-07-08T01:39:58.325809Z",
     "iopub.status.busy": "2022-07-08T01:39:58.325424Z",
     "iopub.status.idle": "2022-07-08T01:39:58.333984Z",
     "shell.execute_reply": "2022-07-08T01:39:58.332942Z",
     "shell.execute_reply.started": "2022-07-08T01:39:58.325743Z"
    }
   },
   "outputs": [
    {
     "data": {
      "text/plain": [
       "age           int64\n",
       "sex          object\n",
       "bmi         float64\n",
       "children      int64\n",
       "smoker       object\n",
       "region       object\n",
       "charges     float64\n",
       "dtype: object"
      ]
     },
     "execution_count": 6,
     "metadata": {},
     "output_type": "execute_result"
    }
   ],
   "source": [
    "df.dtypes"
   ]
  },
  {
   "cell_type": "code",
   "execution_count": 7,
   "metadata": {
    "execution": {
     "iopub.execute_input": "2022-07-08T01:40:01.405970Z",
     "iopub.status.busy": "2022-07-08T01:40:01.405459Z",
     "iopub.status.idle": "2022-07-08T01:40:01.413857Z",
     "shell.execute_reply": "2022-07-08T01:40:01.413144Z",
     "shell.execute_reply.started": "2022-07-08T01:40:01.405748Z"
    }
   },
   "outputs": [
    {
     "data": {
      "text/plain": [
       "age         0\n",
       "sex         0\n",
       "bmi         0\n",
       "children    0\n",
       "smoker      0\n",
       "region      0\n",
       "charges     0\n",
       "dtype: int64"
      ]
     },
     "execution_count": 7,
     "metadata": {},
     "output_type": "execute_result"
    }
   ],
   "source": [
    "df.isnull().sum()"
   ]
  },
  {
   "cell_type": "markdown",
   "metadata": {},
   "source": [
    "<font size='2' font>Analysieren wir nun die Versicherungskosten nach Alter, BMI und Kindern nach dem Faktor Rauchen "
   ]
  },
  {
   "cell_type": "code",
   "execution_count": 8,
   "metadata": {
    "execution": {
     "iopub.execute_input": "2022-07-08T01:44:46.722943Z",
     "iopub.status.busy": "2022-07-08T01:44:46.722257Z",
     "iopub.status.idle": "2022-07-08T01:44:48.194174Z",
     "shell.execute_reply": "2022-07-08T01:44:48.193006Z",
     "shell.execute_reply.started": "2022-07-08T01:44:46.722887Z"
    },
    "pycharm": {
     "is_executing": true
    }
   },
   "outputs": [
    {
     "data": {
      "image/png": "[encoded data removed]",
      "text/plain": [
       "<Figure size 360x360 with 1 Axes>"
      ]
     },
     "metadata": {
      "needs_background": "light"
     },
     "output_type": "display_data"
    },
    {
     "data": {
      "image/png": "[encoded data removed]",
      "text/plain": [
       "<Figure size 360x360 with 1 Axes>"
      ]
     },
     "metadata": {
      "needs_background": "light"
     },
     "output_type": "display_data"
    }
   ],
   "source": [
    "ax = sns.lmplot(x = 'age', y = 'charges', data=df, palette='Set1')\n",
    "ax = sns.lmplot(x = 'bmi', y = 'charges', data=df, palette='Set2')"
   ]
  },
  {
   "cell_type": "code",
   "execution_count": 9,
   "metadata": {
    "execution": {
     "iopub.execute_input": "2022-07-08T02:34:09.229575Z",
     "iopub.status.busy": "2022-07-08T02:34:09.228963Z",
     "iopub.status.idle": "2022-07-08T02:34:09.247407Z",
     "shell.execute_reply": "2022-07-08T02:34:09.246418Z",
     "shell.execute_reply.started": "2022-07-08T02:34:09.229523Z"
    }
   },
   "outputs": [
    {
     "data": {
      "text/plain": [
       "age            int64\n",
       "sex         category\n",
       "bmi          float64\n",
       "children       int64\n",
       "smoker      category\n",
       "region      category\n",
       "charges      float64\n",
       "dtype: object"
      ]
     },
     "execution_count": 9,
     "metadata": {},
     "output_type": "execute_result"
    }
   ],
   "source": [
    "##Umwandlung von Objektbeschriftungen in kategorische\n",
    "df[['sex', 'smoker', 'region']] = df[['sex', 'smoker', 'region']].astype('category')\n",
    "df.dtypes\n",
    "#df.head()"
   ]
  },
  {
   "cell_type": "code",
   "execution_count": 10,
   "metadata": {
    "execution": {
     "iopub.execute_input": "2022-07-08T02:34:12.420310Z",
     "iopub.status.busy": "2022-07-08T02:34:12.419685Z",
     "iopub.status.idle": "2022-07-08T02:34:12.447295Z",
     "shell.execute_reply": "2022-07-08T02:34:12.446563Z",
     "shell.execute_reply.started": "2022-07-08T02:34:12.420229Z"
    }
   },
   "outputs": [
    {
     "data": {
      "text/html": [
       "<div>\n",
       "<style scoped>\n",
       "    .dataframe tbody tr th:only-of-type {\n",
       "        vertical-align: middle;\n",
       "    }\n",
       "\n",
       "    .dataframe tbody tr th {\n",
       "        vertical-align: top;\n",
       "    }\n",
       "\n",
       "    .dataframe thead th {\n",
       "        text-align: right;\n",
       "    }\n",
       "</style>\n",
       "<table border=\"1\" class=\"dataframe\">\n",
       "  <thead>\n",
       "    <tr style=\"text-align: right;\">\n",
       "      <th></th>\n",
       "      <th>age</th>\n",
       "      <th>sex</th>\n",
       "      <th>bmi</th>\n",
       "      <th>children</th>\n",
       "      <th>smoker</th>\n",
       "      <th>region</th>\n",
       "      <th>charges</th>\n",
       "    </tr>\n",
       "  </thead>\n",
       "  <tbody>\n",
       "    <tr>\n",
       "      <th>0</th>\n",
       "      <td>19</td>\n",
       "      <td>0</td>\n",
       "      <td>27.900</td>\n",
       "      <td>0</td>\n",
       "      <td>1</td>\n",
       "      <td>3</td>\n",
       "      <td>16884.92400</td>\n",
       "    </tr>\n",
       "    <tr>\n",
       "      <th>1</th>\n",
       "      <td>18</td>\n",
       "      <td>1</td>\n",
       "      <td>33.770</td>\n",
       "      <td>1</td>\n",
       "      <td>0</td>\n",
       "      <td>2</td>\n",
       "      <td>1725.55230</td>\n",
       "    </tr>\n",
       "    <tr>\n",
       "      <th>2</th>\n",
       "      <td>28</td>\n",
       "      <td>1</td>\n",
       "      <td>33.000</td>\n",
       "      <td>3</td>\n",
       "      <td>0</td>\n",
       "      <td>2</td>\n",
       "      <td>4449.46200</td>\n",
       "    </tr>\n",
       "    <tr>\n",
       "      <th>3</th>\n",
       "      <td>33</td>\n",
       "      <td>1</td>\n",
       "      <td>22.705</td>\n",
       "      <td>0</td>\n",
       "      <td>0</td>\n",
       "      <td>1</td>\n",
       "      <td>21984.47061</td>\n",
       "    </tr>\n",
       "    <tr>\n",
       "      <th>4</th>\n",
       "      <td>32</td>\n",
       "      <td>1</td>\n",
       "      <td>28.880</td>\n",
       "      <td>0</td>\n",
       "      <td>0</td>\n",
       "      <td>1</td>\n",
       "      <td>3866.85520</td>\n",
       "    </tr>\n",
       "  </tbody>\n",
       "</table>\n",
       "</div>"
      ],
      "text/plain": [
       "   age  sex     bmi  children  smoker  region      charges\n",
       "0   19    0  27.900         0       1       3  16884.92400\n",
       "1   18    1  33.770         1       0       2   1725.55230\n",
       "2   28    1  33.000         3       0       2   4449.46200\n",
       "3   33    1  22.705         0       0       1  21984.47061\n",
       "4   32    1  28.880         0       0       1   3866.85520"
      ]
     },
     "execution_count": 10,
     "metadata": {},
     "output_type": "execute_result"
    }
   ],
   "source": [
    "##Umwandlung von Kategoriebezeichnungen in numerische Werte mit LabelEncoder\n",
    "from sklearn.preprocessing import LabelEncoder\n",
    "label = LabelEncoder()\n",
    "label.fit(df.sex.drop_duplicates())\n",
    "df.sex = label.transform(df.sex)\n",
    "label.fit(df.smoker.drop_duplicates())\n",
    "df.smoker = label.transform(df.smoker)\n",
    "label.fit(df.region.drop_duplicates())\n",
    "df.region = label.transform(df.region)\n",
    "df.dtypes\n",
    "df.head()"
   ]
  },
  {
   "cell_type": "code",
   "execution_count": 11,
   "metadata": {
    "execution": {
     "iopub.execute_input": "2022-07-08T01:47:45.197073Z",
     "iopub.status.busy": "2022-07-08T01:47:45.196360Z",
     "iopub.status.idle": "2022-07-08T01:47:45.939567Z",
     "shell.execute_reply": "2022-07-08T01:47:45.938019Z",
     "shell.execute_reply.started": "2022-07-08T01:47:45.196995Z"
    }
   },
   "outputs": [
    {
     "data": {
      "image/png": "[encoded data removed]",
      "text/plain": [
       "<Figure size 720x720 with 2 Axes>"
      ]
     },
     "metadata": {
      "needs_background": "light"
     },
     "output_type": "display_data"
    }
   ],
   "source": [
    "f, ax = plt.subplots(1, 1, figsize=(10, 10))\n",
    "ax = sns.heatmap(df.corr(), annot=True, cmap='cool')"
   ]
  },
  {
   "cell_type": "markdown",
   "metadata": {},
   "source": [
    "<font size='2' font>Keine Korrelation, außer mit dem Rauchen "
   ]
  },
  {
   "cell_type": "markdown",
   "metadata": {},
   "source": [
    "<font size=5><p style=\"color:purple\"> Lineare Regression"
   ]
  },
  {
   "cell_type": "markdown",
   "metadata": {},
   "source": [
    "<font size=2><p style=\"color:blue\"> Funktionen für Evaluation der Ergebnisse"
   ]
  },
  {
   "cell_type": "code",
   "execution_count": 12,
   "metadata": {},
   "outputs": [],
   "source": [
    "from sklearn import metrics\n",
    "from sklearn.model_selection import cross_val_score\n",
    "\n",
    "\n",
    "def cross_val(model):\n",
    "    pred = cross_val_score(model, X, y, cv=10)\n",
    "    return pred.mean()\n",
    "\n",
    "def print_evaluate(true, predicted):  \n",
    "    mae = metrics.mean_absolute_error(true, predicted)\n",
    "    mse = metrics.mean_squared_error(true, predicted)\n",
    "    rmse = np.sqrt(metrics.mean_squared_error(true, predicted))\n",
    "    r2_square = metrics.r2_score(true, predicted)\n",
    "    print('MAE:', mae)\n",
    "    print('MSE:', mse)\n",
    "    print('RMSE:', rmse)\n",
    "    print('R2 Square', r2_square)\n",
    "    print('__________________________________')\n",
    "    \n",
    "def evaluate(true, predicted):\n",
    "    mae = metrics.mean_absolute_error(true, predicted)\n",
    "    mse = metrics.mean_squared_error(true, predicted)\n",
    "    rmse = np.sqrt(metrics.mean_squared_error(true, predicted))\n",
    "    r2_square = metrics.r2_score(true, predicted)\n",
    "    return mae, mse, rmse, r2_square\n",
    "\n",
    "def regression_analysis(X, y, model):\n",
    "    \n",
    "    is_statsmodels = False\n",
    "    is_sklearn = False\n",
    "    \n",
    "    # check for accepted linear models\n",
    "    if type(model) in [sklearn.linear_model._base.LinearRegression,\n",
    "                       sklearn.linear_model._ridge.Ridge,\n",
    "                       sklearn.linear_model._ridge.RidgeCV,\n",
    "                       sklearn.linear_model._coordinate_descent.Lasso,\n",
    "                       sklearn.linear_model._coordinate_descent.LassoCV,\n",
    "                       sklearn.linear_model._coordinate_descent.ElasticNet,\n",
    "                       sklearn.linear_model._coordinate_descent.ElasticNetCV,\n",
    "                      ]:\n",
    "        is_sklearn = True\n",
    "    elif type(model) in [statsmodels.regression.linear_model.OLS, \n",
    "                         statsmodels.base.elastic_net.RegularizedResults,\n",
    "                        ]:\n",
    "        is_statsmodels = True\n",
    "    else:\n",
    "        print(\"Only linear models are supported!\")\n",
    "        return None\n",
    "    \n",
    "    \n",
    "    \n",
    "    has_intercept = False\n",
    "    \n",
    "    if is_statsmodels and all(np.array(X)[:,0]==1):\n",
    "        # statsmodels add_constant has been used already\n",
    "        has_intercept = True  \n",
    "    elif is_sklearn and model.intercept_:\n",
    "        has_intercept = True\n",
    "        \n",
    "\n",
    "    \n",
    "    if is_statsmodels:\n",
    "        # add_constant has been used already\n",
    "        x = X\n",
    "        model_params = model.params\n",
    "    else: # sklearn model\n",
    "        if has_intercept:\n",
    "            x = sm.add_constant(X)\n",
    "            model_params = np.hstack([np.array([model.intercept_]), model.coef_])\n",
    "        else:\n",
    "            x = X\n",
    "            model_params = model.coef_\n",
    "        \n",
    "    #y = np.array(y).ravel()\n",
    "    \n",
    "    # define the OLS model\n",
    "    olsModel = sm.OLS(y, x)\n",
    "    \n",
    "    pinv_wexog,_ = pinv_extended(x)\n",
    "    normalized_cov_params = np.dot(pinv_wexog, np.transpose(pinv_wexog))\n",
    "    \n",
    "    \n",
    "    return sm.regression.linear_model.OLSResults(olsModel, model_params, normalized_cov_params)\n",
    "    "
   ]
  },
  {
   "cell_type": "code",
   "execution_count": 13,
   "metadata": {
    "execution": {
     "iopub.execute_input": "2022-07-08T02:34:16.672812Z",
     "iopub.status.busy": "2022-07-08T02:34:16.672113Z",
     "iopub.status.idle": "2022-07-08T02:34:17.289277Z",
     "shell.execute_reply": "2022-07-08T02:34:17.288025Z",
     "shell.execute_reply.started": "2022-07-08T02:34:16.672757Z"
    },
    "pycharm": {
     "is_executing": false,
     "name": "#%%\n"
    }
   },
   "outputs": [
    {
     "name": "stdout",
     "output_type": "stream",
     "text": [
      "                            OLS Regression Results                            \n",
      "==============================================================================\n",
      "Dep. Variable:                charges   R-squared:                       0.737\n",
      "Model:                            OLS   Adj. R-squared:                  0.735\n",
      "Method:                 Least Squares   F-statistic:                     496.0\n",
      "Date:                Fri, 24 Feb 2023   Prob (F-statistic):          5.53e-304\n",
      "Time:                        10:53:59   Log-Likelihood:                -10852.\n",
      "No. Observations:                1070   AIC:                         2.172e+04\n",
      "Df Residuals:                    1063   BIC:                         2.175e+04\n",
      "Df Model:                           6                                         \n",
      "Covariance Type:            nonrobust                                         \n",
      "==============================================================================\n",
      "                 coef    std err          t      P>|t|      [0.025      0.975]\n",
      "------------------------------------------------------------------------------\n",
      "const      -1.166e+04   1079.677    -10.801      0.000   -1.38e+04   -9543.444\n",
      "age          253.9919     13.517     18.791      0.000     227.469     280.514\n",
      "sex          -24.3246    377.828     -0.064      0.949    -765.697     717.048\n",
      "bmi          328.4026     31.035     10.582      0.000     267.506     389.299\n",
      "children     443.7293    156.293      2.839      0.005     137.051     750.408\n",
      "smoker      2.357e+04    468.557     50.301      0.000    2.26e+04    2.45e+04\n",
      "region      -288.5086    172.599     -1.672      0.095    -627.181      50.164\n",
      "==============================================================================\n",
      "Omnibus:                      255.422   Durbin-Watson:                   1.996\n",
      "Prob(Omnibus):                  0.000   Jarque-Bera (JB):              614.129\n",
      "Skew:                           1.273   Prob(JB):                    4.40e-134\n",
      "Kurtosis:                       5.700   Cond. No.                         295.\n",
      "==============================================================================\n",
      "\n",
      "Notes:\n",
      "[1] Standard Errors assume that the covariance matrix of the errors is correctly specified.\n",
      "MAE: 3930.3332739011357\n",
      "MSE: 31845929.134159423\n",
      "RMSE: 5643.2197488809015\n",
      "R2 Square 0.799874714544996\n",
      "__________________________________\n",
      "====================================\n",
      "Train set evaluation:\n",
      "_____________________________________\n",
      "MAE: 4235.383876032088\n",
      "MSE: 37729580.50984919\n",
      "RMSE: 6142.440924408568\n",
      "R2 Square 0.7368306228430945\n",
      "__________________________________\n"
     ]
    },
    {
     "data": {
      "image/png": "[encoded data removed]",
      "text/plain": [
       "<Figure size 432x288 with 1 Axes>"
      ]
     },
     "metadata": {
      "needs_background": "light"
     },
     "output_type": "display_data"
    }
   ],
   "source": [
    "from sklearn.model_selection import train_test_split as holdout\n",
    "from sklearn.linear_model import LinearRegression\n",
    "from sklearn import metrics\n",
    "from sklearn.metrics import mean_squared_error,mean_absolute_error,r2_score\n",
    "from scipy import stats\n",
    "\n",
    "x = df.drop(['charges'], axis = 1)\n",
    "y = df['charges']\n",
    "x_train, x_test, y_train, y_test = holdout(x, y, test_size=0.2, random_state=0)\n",
    "\n",
    "\n",
    "############\n",
    "####Linear Regression with p-values\n",
    "import statsmodels.api as sm\n",
    "from scipy import stats\n",
    "x_train=sm.add_constant(x_train)\n",
    "est = sm.OLS(y_train, x_train)\n",
    "est2 = est.fit()\n",
    "print(est2.summary())\n",
    "\n",
    "\n",
    "\n",
    "##Predicting the charges\n",
    "x_test = sm.add_constant(x_test)\n",
    "test_pred = est2.predict(x_test)\n",
    "train_pred = est2.predict(x_train)\n",
    "##Comparing the actual output values with the predicted values\n",
    "sns.scatterplot(y_test,test_pred)\n",
    "\n",
    "df = pd.DataFrame({'Actual': y_test, 'Predicted': test_pred})\n",
    "df.head()\n",
    "\n",
    "\n",
    "print_evaluate(y_test, test_pred)\n",
    "print('====================================')\n",
    "print('Train set evaluation:\\n_____________________________________')\n",
    "print_evaluate(y_train, train_pred)\n"
   ]
  },
  {
   "cell_type": "markdown",
   "metadata": {},
   "source": [
    "<font size=5><p style=\"color:purple\"> Lasso Regression"
   ]
  },
  {
   "cell_type": "code",
   "execution_count": 14,
   "metadata": {},
   "outputs": [
    {
     "name": "stdout",
     "output_type": "stream",
     "text": [
      "Best alpha : 1.0\n",
      "Test set evaluation:\n",
      "_____________________________________\n",
      "MAE: 3941.615467047815\n",
      "MSE: 32174390.843070243\n",
      "RMSE: 5672.2474243522065\n",
      "R2 Square 0.7978106047813933\n",
      "__________________________________\n",
      "====================================\n",
      "Train set evaluation:\n",
      "_____________________________________\n",
      "MAE: 4239.292302064685\n",
      "MSE: 37828896.46967463\n",
      "RMSE: 6150.52001619982\n",
      "R2 Square 0.7361378794058284\n",
      "__________________________________\n",
      "const           0.000000\n",
      "age           254.960856\n",
      "sex             0.000000\n",
      "bmi           320.606277\n",
      "children      429.966743\n",
      "smoker      23581.414436\n",
      "region          0.000000\n",
      "dtype: float64\n"
     ]
    },
    {
     "data": {
      "image/png": "[encoded data removed]",
      "text/plain": [
       "<Figure size 432x288 with 1 Axes>"
      ]
     },
     "metadata": {
      "needs_background": "light"
     },
     "output_type": "display_data"
    }
   ],
   "source": [
    "from sklearn.linear_model import Lasso, LassoCV\n",
    "\n",
    "lasso = LassoCV(alphas = [0.0001, 0.0003, 0.0006, 0.001, 0.003, 0.006, 0.01, 0.03, 0.06, 0.1, \n",
    "                          0.3, 0.6, 1], \n",
    "                max_iter = 50000, cv = 10)\n",
    "lasso.fit(x_train, y_train)\n",
    "alpha = lasso.alpha_\n",
    "print(\"Best alpha :\", alpha)\n",
    "\n",
    "\n",
    "model = Lasso(alpha=alpha, \n",
    "              precompute=True, \n",
    "#               warm_start=True, \n",
    "              positive=True, \n",
    "              selection='random',\n",
    "              random_state=42)\n",
    "model.fit(x_train, y_train)\n",
    "\n",
    "test_pred = model.predict(x_test)\n",
    "train_pred = model.predict(x_train)\n",
    "\n",
    "\n",
    "\n",
    "print('Test set evaluation:\\n_____________________________________')\n",
    "print_evaluate(y_test, test_pred)\n",
    "print('====================================')\n",
    "print('Train set evaluation:\\n_____________________________________')\n",
    "print_evaluate(y_train, train_pred)\n",
    "\n",
    "\n",
    "pd.Series(model.coef_, x_train.columns).sort_values(ascending = True).plot(kind = \"bar\")\n",
    "coefs_lasso = pd.Series(model.coef_, index = x_train.columns)\n",
    "print(coefs_lasso.head(10))\n"
   ]
  },
  {
   "cell_type": "markdown",
   "metadata": {},
   "source": [
    "<font size=5><p style=\"color:purple\"> Ridge Regression"
   ]
  },
  {
   "cell_type": "code",
   "execution_count": 15,
   "metadata": {},
   "outputs": [
    {
     "name": "stdout",
     "output_type": "stream",
     "text": [
      "Best alpha : 0.1\n",
      "Test set evaluation:\n",
      "_____________________________________\n",
      "MAE: 3931.59860370103\n",
      "MSE: 31851414.281051546\n",
      "RMSE: 5643.705722400092\n",
      "R2 Square 0.7998402449403277\n",
      "__________________________________\n",
      "====================================\n",
      "Train set evaluation:\n",
      "_____________________________________\n",
      "MAE: 4236.269908876743\n",
      "MSE: 37729610.47481883\n",
      "RMSE: 6142.443363582511\n",
      "R2 Square 0.736830413833021\n",
      "__________________________________\n",
      "const           0.000000\n",
      "age           253.972187\n",
      "sex           -23.759767\n",
      "bmi           328.389979\n",
      "children      443.831454\n",
      "smoker      23555.265627\n",
      "region       -288.612763\n",
      "dtype: float64\n"
     ]
    },
    {
     "data": {
      "image/png": "[encoded data removed]",
      "text/plain": [
       "<Figure size 432x288 with 1 Axes>"
      ]
     },
     "metadata": {
      "needs_background": "light"
     },
     "output_type": "display_data"
    }
   ],
   "source": [
    "from sklearn.linear_model import Ridge, RidgeCV\n",
    "ridge = RidgeCV(alphas = [0.01, 0.03, 0.06, 0.1, 0.3, 0.6, 1, 3, 6, 10, 30, 60])\n",
    "ridge.fit(x_train, y_train)\n",
    "alpha = ridge.alpha_\n",
    "print(\"Best alpha :\", alpha)\n",
    "\n",
    "model = Ridge(alpha=alpha, solver='cholesky', tol=0.0001, random_state=42)\n",
    "model.fit(x_train, y_train)\n",
    "pred = model.predict(x_test)\n",
    "\n",
    "test_pred = model.predict(x_test)\n",
    "train_pred = model.predict(x_train)\n",
    "\n",
    "print('Test set evaluation:\\n_____________________________________')\n",
    "print_evaluate(y_test, test_pred)\n",
    "print('====================================')\n",
    "print('Train set evaluation:\\n_____________________________________')\n",
    "print_evaluate(y_train, train_pred)\n",
    "\n",
    "# Plot important coefficients\n",
    "pd.Series(model.coef_, x_train.columns).sort_values(ascending = True).plot(kind = \"bar\")\n",
    "coefs_ridge = pd.Series(model.coef_, index = x_train.columns)\n",
    "print(coefs_ridge.head(10))\n"
   ]
  },
  {
   "cell_type": "markdown",
   "metadata": {},
   "source": [
    "<font size=5><p style=\"color:purple\"> Deep Learning"
   ]
  },
  {
   "cell_type": "code",
   "execution_count": 16,
   "metadata": {
    "pycharm": {
     "is_executing": true,
     "name": "#%%\n"
    }
   },
   "outputs": [
    {
     "name": "stdout",
     "output_type": "stream",
     "text": [
      "Epoch 1/40\n",
      "1070/1070 [==============================] - 2s 2ms/step - loss: 142487920.0000 - val_loss: 132672280.0000\n",
      "Epoch 2/40\n",
      "1070/1070 [==============================] - 1s 1ms/step - loss: 124178520.0000 - val_loss: 129013376.0000\n",
      "Epoch 3/40\n",
      "1070/1070 [==============================] - 1s 1ms/step - loss: 118644048.0000 - val_loss: 119988056.0000\n",
      "Epoch 4/40\n",
      "1070/1070 [==============================] - 1s 1ms/step - loss: 108896168.0000 - val_loss: 105559608.0000\n",
      "Epoch 5/40\n",
      "1070/1070 [==============================] - 1s 1ms/step - loss: 90782832.0000 - val_loss: 89432672.0000\n",
      "Epoch 6/40\n",
      "1070/1070 [==============================] - 1s 1ms/step - loss: 60733576.0000 - val_loss: 48771056.0000\n",
      "Epoch 7/40\n",
      "1070/1070 [==============================] - 1s 1ms/step - loss: 44128768.0000 - val_loss: 35221744.0000\n",
      "Epoch 8/40\n",
      "1070/1070 [==============================] - 1s 1ms/step - loss: 42724500.0000 - val_loss: 38361440.0000\n",
      "Epoch 9/40\n",
      "1070/1070 [==============================] - 1s 1ms/step - loss: 40560368.0000 - val_loss: 33390638.0000\n",
      "Epoch 10/40\n",
      "1070/1070 [==============================] - 1s 1ms/step - loss: 40337432.0000 - val_loss: 32380060.0000\n",
      "Epoch 11/40\n",
      "1070/1070 [==============================] - 1s 1ms/step - loss: 39560944.0000 - val_loss: 33064758.0000\n",
      "Epoch 12/40\n",
      "1070/1070 [==============================] - 2s 1ms/step - loss: 38494952.0000 - val_loss: 32743650.0000\n",
      "Epoch 13/40\n",
      "1070/1070 [==============================] - 2s 1ms/step - loss: 38567992.0000 - val_loss: 32199252.0000\n",
      "Epoch 14/40\n",
      "1070/1070 [==============================] - 2s 1ms/step - loss: 38367752.0000 - val_loss: 30980074.0000\n",
      "Epoch 15/40\n",
      "1070/1070 [==============================] - 1s 1ms/step - loss: 38632740.0000 - val_loss: 34415412.0000\n",
      "Epoch 16/40\n",
      "1070/1070 [==============================] - 1s 1ms/step - loss: 37750296.0000 - val_loss: 31944532.0000\n",
      "Epoch 17/40\n",
      "1070/1070 [==============================] - 1s 1ms/step - loss: 37937096.0000 - val_loss: 31069876.0000\n",
      "Epoch 18/40\n",
      "1070/1070 [==============================] - 2s 2ms/step - loss: 37095924.0000 - val_loss: 31444718.0000\n",
      "Epoch 19/40\n",
      "1070/1070 [==============================] - 1s 1ms/step - loss: 37037968.0000 - val_loss: 35835960.0000\n",
      "Epoch 20/40\n",
      "1070/1070 [==============================] - 1s 1ms/step - loss: 36659664.0000 - val_loss: 28930992.0000\n",
      "Epoch 21/40\n",
      "1070/1070 [==============================] - 1s 1ms/step - loss: 36084996.0000 - val_loss: 29657268.0000\n",
      "Epoch 22/40\n",
      "1070/1070 [==============================] - 2s 1ms/step - loss: 36230740.0000 - val_loss: 29193810.0000\n",
      "Epoch 23/40\n",
      "1070/1070 [==============================] - 1s 1ms/step - loss: 35618912.0000 - val_loss: 28919530.0000\n",
      "Epoch 24/40\n",
      "1070/1070 [==============================] - 1s 1ms/step - loss: 35523924.0000 - val_loss: 29390554.0000\n",
      "Epoch 25/40\n",
      "1070/1070 [==============================] - 1s 1ms/step - loss: 33702644.0000 - val_loss: 38543512.0000\n",
      "Epoch 26/40\n",
      "1070/1070 [==============================] - 2s 1ms/step - loss: 34443812.0000 - val_loss: 28372774.0000\n",
      "Epoch 27/40\n",
      "1070/1070 [==============================] - 1s 1ms/step - loss: 33515030.0000 - val_loss: 27867804.0000\n",
      "Epoch 28/40\n",
      "1070/1070 [==============================] - 1s 1ms/step - loss: 33436020.0000 - val_loss: 26506554.0000\n",
      "Epoch 29/40\n",
      "1070/1070 [==============================] - 2s 1ms/step - loss: 32475610.0000 - val_loss: 26407408.0000\n",
      "Epoch 30/40\n",
      "1070/1070 [==============================] - 1s 1ms/step - loss: 32852090.0000 - val_loss: 27014200.0000\n",
      "Epoch 31/40\n",
      "1070/1070 [==============================] - 1s 1ms/step - loss: 31811578.0000 - val_loss: 24932574.0000\n",
      "Epoch 32/40\n",
      "1070/1070 [==============================] - 1s 1ms/step - loss: 31570780.0000 - val_loss: 25322996.0000\n",
      "Epoch 33/40\n",
      "1070/1070 [==============================] - 1s 1ms/step - loss: 31173646.0000 - val_loss: 23593212.0000\n",
      "Epoch 34/40\n",
      "1070/1070 [==============================] - 2s 1ms/step - loss: 31308952.0000 - val_loss: 26263248.0000\n",
      "Epoch 35/40\n",
      "1070/1070 [==============================] - 1s 1ms/step - loss: 30152928.0000 - val_loss: 23263430.0000\n",
      "Epoch 36/40\n",
      "1070/1070 [==============================] - 1s 1ms/step - loss: 29657110.0000 - val_loss: 26869662.0000\n",
      "Epoch 37/40\n",
      "1070/1070 [==============================] - 1s 1ms/step - loss: 30037424.0000 - val_loss: 22602332.0000\n",
      "Epoch 38/40\n",
      "1070/1070 [==============================] - 1s 1ms/step - loss: 29324824.0000 - val_loss: 30294846.0000\n",
      "Epoch 39/40\n",
      "1070/1070 [==============================] - 1s 1ms/step - loss: 28332460.0000 - val_loss: 25678100.0000\n",
      "Epoch 40/40\n",
      "1070/1070 [==============================] - 1s 1ms/step - loss: 28642512.0000 - val_loss: 22107584.0000\n",
      "9/9 [==============================] - 0s 849us/step\n",
      "34/34 [==============================] - 0s 817us/step\n",
      "Test set evaluation:\n",
      "_____________________________________\n",
      "MAE: 3176.695546990497\n",
      "MSE: 22107585.7628773\n",
      "RMSE: 4701.870453646857\n",
      "R2 Square 0.8610721360058826\n",
      "__________________________________\n",
      "Train set evaluation:\n",
      "_____________________________________\n",
      "MAE: 3256.9103171429797\n",
      "MSE: 26304186.698623937\n",
      "RMSE: 5128.760737120025\n",
      "R2 Square 0.8165244262843385\n",
      "__________________________________\n"
     ]
    }
   ],
   "source": [
    "from tensorflow.keras.models import Sequential\n",
    "from tensorflow.keras.layers import Input, Dense, Activation, Dropout\n",
    "from tensorflow.keras.optimizers import Adam\n",
    "\n",
    "x_train = np.array(x_train)\n",
    "x_test = np.array(x_test)\n",
    "y_train = np.array(y_train)\n",
    "y_test = np.array(y_test)\n",
    "\n",
    "model = Sequential()\n",
    "\n",
    "model.add(Dense(x_train.shape[1], activation='relu'))\n",
    "model.add(Dense(32, activation='relu'))\n",
    "model.add(Dense(1))\n",
    "model.compile(optimizer=Adam(0.01), loss='mse')\n",
    "\n",
    "r = model.fit(x_train, y_train,\n",
    "              validation_data=(x_test,y_test),\n",
    "              batch_size=1,\n",
    "              epochs=40)\n",
    "\n",
    "test_pred = model.predict(x_test)\n",
    "train_pred = model.predict(x_train)\n",
    "\n",
    "print('Test set evaluation:\\n_____________________________________')\n",
    "print_evaluate(y_test, test_pred)\n",
    "\n",
    "print('Train set evaluation:\\n_____________________________________')\n",
    "print_evaluate(y_train, train_pred)\n",
    "\n",
    "\n",
    "\n",
    "\n"
   ]
  },
  {
   "cell_type": "code",
   "execution_count": null,
   "metadata": {},
   "outputs": [],
   "source": []
  }
 ],
 "metadata": {
  "kernelspec": {
   "display_name": "Python 3 (ipykernel)",
   "language": "python",
   "name": "python3"
  },
  "language_info": {
   "codemirror_mode": {
    "name": "ipython",
    "version": 3
   },
   "file_extension": ".py",
   "mimetype": "text/x-python",
   "name": "python",
   "nbconvert_exporter": "python",
   "pygments_lexer": "ipython3",
   "version": "3.7.13"
  },
  "pycharm": {
   "stem_cell": {
    "cell_type": "raw",
    "metadata": {
     "collapsed": false
    },
    "source": []
   }
  }
 },
 "nbformat": 4,
 "nbformat_minor": 4
}
